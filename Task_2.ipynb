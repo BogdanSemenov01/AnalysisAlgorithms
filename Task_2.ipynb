{
 "cells": [
  {
   "cell_type": "code",
   "execution_count": 1,
   "id": "fe15ee28",
   "metadata": {},
   "outputs": [],
   "source": [
    "import math\n",
    "import numpy as np\n",
    "from matplotlib import pyplot as plt\n",
    "from scipy import optimize"
   ]
  },
  {
   "cell_type": "markdown",
   "id": "230ccb14",
   "metadata": {},
   "source": [
    "# Part I"
   ]
  },
  {
   "cell_type": "code",
   "execution_count": 2,
   "id": "12396484",
   "metadata": {},
   "outputs": [],
   "source": [
    "def f_1(x):\n",
    "    return x**3\n",
    "X_1 = [0, 1]"
   ]
  },
  {
   "cell_type": "code",
   "execution_count": 3,
   "id": "d69d7044",
   "metadata": {},
   "outputs": [],
   "source": [
    "def f_2(x):\n",
    "    return abs(x - 0.2)\n",
    "X_2 = [0,1]"
   ]
  },
  {
   "cell_type": "code",
   "execution_count": 4,
   "id": "57f992f8",
   "metadata": {},
   "outputs": [],
   "source": [
    "def f_3(x):\n",
    "    return x*math.sin(1/x)\n",
    "X_3 = [0.01, 1]"
   ]
  },
  {
   "cell_type": "code",
   "execution_count": 5,
   "id": "c2a55142",
   "metadata": {},
   "outputs": [],
   "source": [
    "E = 0.001"
   ]
  },
  {
   "cell_type": "code",
   "execution_count": 331,
   "id": "fcd1a33e",
   "metadata": {},
   "outputs": [],
   "source": [
    "def exhaustive_search(function, period):\n",
    "    its = 0\n",
    "    func_eval = 0\n",
    "    n = (period[1] - period[0]) * E**(-1)\n",
    "    x_k = []\n",
    "    for i in range(int(n) + 1):\n",
    "        its += 1\n",
    "        value = function(period[0] + i*((period[1] - period[0]) / n))\n",
    "        func_value = function(value)\n",
    "        func_eval += 1\n",
    "        x_k.append(func_value)\n",
    "    return its, func_eval\n",
    "    "
   ]
  },
  {
   "cell_type": "code",
   "execution_count": 332,
   "id": "494be4a0",
   "metadata": {},
   "outputs": [],
   "source": [
    "def dichotomy(function, period):\n",
    "    a, b = period[0], period[1]\n",
    "    its = 0\n",
    "    func_eval = 0\n",
    "    delta = E / 2\n",
    "    while abs(a - b) >= E:\n",
    "        its += 1\n",
    "        x_1 = (a + b - delta) / 2\n",
    "        x_2 = (a + b + delta) / 2\n",
    "        f_1 = function(x_1)\n",
    "        func_eval += 1\n",
    "        f_2 = function(x_2)\n",
    "        func_eval += 1\n",
    "        if f_1 <= f_2:\n",
    "            b = x_2\n",
    "        else:\n",
    "            a = x_1\n",
    "    \n",
    "    return its, func_eval\n",
    "        "
   ]
  },
  {
   "cell_type": "code",
   "execution_count": 431,
   "id": "92c895ac",
   "metadata": {},
   "outputs": [],
   "source": [
    "def golden_section(function, period):\n",
    "    its = 0\n",
    "    func_eval = 1\n",
    "    a, b = period[0], period[1]\n",
    "    x_1 = a + (((3-5**(1/2)) / 2) * (b - a))\n",
    "    x_2 = b + (((5**(1/2) - 3) / 2) * (b - a))\n",
    "    while abs(a - b) >= E:\n",
    "        its += 1\n",
    "        if function(x_1) <= function(x_2):\n",
    "            func_eval += 1\n",
    "            b = x_2\n",
    "            x_2 = x_1\n",
    "            x_1 = a + (((3-5**(1/2)) / 2) * (b - a))\n",
    "        else:\n",
    "            a = x_1\n",
    "            x_1 = x_2\n",
    "            x_2 = b + (((5**(1/2) - 3) / 2) * (b - a))\n",
    "    return its, func_eval"
   ]
  },
  {
   "cell_type": "code",
   "execution_count": 334,
   "id": "76836b13",
   "metadata": {},
   "outputs": [],
   "source": [
    "ex_search_res1 = exhaustive_search(f_1, X_1)\n",
    "ex_search_res2 = exhaustive_search(f_2, X_2)\n",
    "ex_search_res3 = exhaustive_search(f_3, X_3)"
   ]
  },
  {
   "cell_type": "code",
   "execution_count": 335,
   "id": "a3dfb6e9",
   "metadata": {},
   "outputs": [],
   "source": [
    "di_res1 = dichotomy(f_1, X_1)\n",
    "di_res2 = dichotomy(f_2, X_2)\n",
    "di_res3 = dichotomy(f_3, X_3)"
   ]
  },
  {
   "cell_type": "code",
   "execution_count": 432,
   "id": "a0e7354a",
   "metadata": {},
   "outputs": [],
   "source": [
    "gs_res1 = golden_section(f_1, X_1)\n",
    "gs_res2 = golden_section(f_2, X_2)\n",
    "gs_res3 = golden_section(f_3, X_3)"
   ]
  },
  {
   "cell_type": "code",
   "execution_count": 435,
   "id": "99496692",
   "metadata": {},
   "outputs": [
    {
     "data": {
      "text/plain": [
       "(15, 9)"
      ]
     },
     "execution_count": 435,
     "metadata": {},
     "output_type": "execute_result"
    }
   ],
   "source": [
    "gs_res3"
   ]
  },
  {
   "cell_type": "markdown",
   "id": "84eacd49",
   "metadata": {},
   "source": [
    "# Part II"
   ]
  },
  {
   "cell_type": "code",
   "execution_count": 71,
   "id": "757b6752",
   "metadata": {},
   "outputs": [],
   "source": [
    "alpha = np.random.random()\n",
    "beta = np.random.random()"
   ]
  },
  {
   "cell_type": "code",
   "execution_count": 72,
   "id": "facd0458",
   "metadata": {},
   "outputs": [],
   "source": [
    "x_k = np.array([i/100 for i in range(101)])\n",
    "y_k = [alpha * i + beta + np.random.standard_normal() for i in x_k]"
   ]
  },
  {
   "cell_type": "code",
   "execution_count": 74,
   "id": "533d7674",
   "metadata": {},
   "outputs": [],
   "source": [
    "def linear(x, a, b):\n",
    "    return a*x + b"
   ]
  },
  {
   "cell_type": "code",
   "execution_count": 75,
   "id": "87025d23",
   "metadata": {},
   "outputs": [],
   "source": [
    "def rational(x, a, b):\n",
    "    return a/(1+b*x)"
   ]
  },
  {
   "cell_type": "code",
   "execution_count": 388,
   "id": "55c5b3b6",
   "metadata": {},
   "outputs": [],
   "source": [
    "def multi_exhaustive_search(function):\n",
    "    res = []\n",
    "    coeff = []\n",
    "    it = 0\n",
    "    func_eval = 0\n",
    "    for i in range(101):\n",
    "        i /= 100\n",
    "        for j in range(101):\n",
    "            j /= 100\n",
    "            temp = 0\n",
    "            for k in range(101):\n",
    "                it += 1\n",
    "                temp += (function(x_k[k], i, j) - y_k[k])**2\n",
    "                func_eval += 1\n",
    "            res.append(temp)\n",
    "            coeff.append([i, j])\n",
    "    param = coeff[res.index(min(res))]\n",
    "    return param, it, func_eval"
   ]
  },
  {
   "cell_type": "code",
   "execution_count": 389,
   "id": "c27901cd",
   "metadata": {},
   "outputs": [],
   "source": [
    "def lin_coord_des():\n",
    "    f_eval = 0\n",
    "    its = 0\n",
    "    tempa = 0.001\n",
    "    tempb = 0.001\n",
    "    while True:\n",
    "        its += 1\n",
    "        resa = []\n",
    "        resb = []\n",
    "        for a in range(1001):\n",
    "            a /= 100\n",
    "            temp = 0\n",
    "            for k in range(101):\n",
    "                f_v = ((a * x_k[k] + tempb) - y_k[k])**2\n",
    "                f_eval += 1\n",
    "                temp += f_v\n",
    "            resa.append(temp)\n",
    "        nexta = resa.index(min(resa)) / 1000\n",
    "        if abs(tempa - nexta) < E and abs(tempb - nextb) < E:\n",
    "            break\n",
    "        tempa = nexta\n",
    "\n",
    "        for b in range(1001):\n",
    "            b /= 1000\n",
    "            temp = 0\n",
    "            for k in range(101):\n",
    "                f_v = ((tempa * x_k[k] + b) - y_k[k])**2\n",
    "                temp += f_v\n",
    "                f_eval += 1\n",
    "            resb.append(temp)\n",
    "        nextb =  resb.index(min(resb)) / 1000\n",
    "        tempb = nextb\n",
    "    return (tempa, tempb), its, f_eval"
   ]
  },
  {
   "cell_type": "code",
   "execution_count": 390,
   "id": "6d4434ae",
   "metadata": {},
   "outputs": [],
   "source": [
    "def rat_coord_des():\n",
    "    its = 0\n",
    "    f_eval = 0\n",
    "    tempa = 0.001\n",
    "    tempb = 0.001\n",
    "    while True:\n",
    "        its += 1\n",
    "        resa = []\n",
    "        resb = []\n",
    "        for a in range(1001):\n",
    "            a /= 100\n",
    "            temp = 0\n",
    "            for k in range(101):\n",
    "                f_v = ((a / (1 + x_k[k] * tempb)) - y_k[k])**2\n",
    "                f_eval += 1\n",
    "                temp += f_v\n",
    "            resa.append(temp)\n",
    "        nexta = resa.index(min(resa)) / 1000\n",
    "        if abs(tempa - nexta) < E and abs(tempb - nextb) < E:\n",
    "            break\n",
    "        tempa = nexta\n",
    "\n",
    "        for b in range(1001):\n",
    "            b /= 1000\n",
    "            temp = 0\n",
    "            for k in range(101):\n",
    "                f_v = ((tempa * x_k[k] + b) - y_k[k])**2\n",
    "                f_eval += 1\n",
    "                temp += f_v\n",
    "            resb.append(temp)\n",
    "        nextb =  resb.index(min(resb)) / 1000\n",
    "        tempb = nextb\n",
    "    return (tempa, tempb), its, f_eval\n",
    "                "
   ]
  },
  {
   "cell_type": "code",
   "execution_count": 391,
   "id": "6a4703f2",
   "metadata": {},
   "outputs": [],
   "source": [
    "def lin_nelder_mead():\n",
    "    param = [0, 0]\n",
    "    \n",
    "    \n",
    "    def linear(args):\n",
    "        temp = 0\n",
    "        for i in range(101):\n",
    "            temp += (args[0] * x_k[i] + args[1] - y_k[i])**2\n",
    "        return temp\n",
    "        \n",
    "    res = optimize.minimize(linear, param, method='Nelder-Mead', tol=E)\n",
    "    return res"
   ]
  },
  {
   "cell_type": "code",
   "execution_count": 392,
   "id": "7a1df98c",
   "metadata": {},
   "outputs": [],
   "source": [
    "def rat_nelder_mead():\n",
    "    param = [0, 0]\n",
    "    \n",
    "    \n",
    "    def rational(args):\n",
    "        temp = 0\n",
    "        for i in range(101):\n",
    "            temp += (args[0] / (1 + args[1] * x_k[i]) - y_k[i])**2\n",
    "        return temp\n",
    "        \n",
    "    res = optimize.minimize(rational, param, method='Nelder-Mead', tol=E)\n",
    "    return res"
   ]
  },
  {
   "cell_type": "code",
   "execution_count": 393,
   "id": "172707e7",
   "metadata": {},
   "outputs": [],
   "source": [
    "linear_ex = multi_exhaustive_search(linear)"
   ]
  },
  {
   "cell_type": "code",
   "execution_count": 394,
   "id": "02b3894e",
   "metadata": {},
   "outputs": [],
   "source": [
    "rational_ex = multi_exhaustive_search(rational)"
   ]
  },
  {
   "cell_type": "code",
   "execution_count": 395,
   "id": "6975e347",
   "metadata": {},
   "outputs": [],
   "source": [
    "lin_coord_des_res = lin_coord_des()"
   ]
  },
  {
   "cell_type": "code",
   "execution_count": 442,
   "id": "5d555d29",
   "metadata": {},
   "outputs": [],
   "source": [
    "rat_coord_des_res = rat_coord_des()"
   ]
  },
  {
   "cell_type": "code",
   "execution_count": 397,
   "id": "906c7002",
   "metadata": {},
   "outputs": [],
   "source": [
    "lin_nelder_mead_res = lin_nelder_mead()"
   ]
  },
  {
   "cell_type": "code",
   "execution_count": 440,
   "id": "4ea12587",
   "metadata": {
    "scrolled": false
   },
   "outputs": [],
   "source": [
    "rat_nelder_mead_res = rat_nelder_mead()"
   ]
  },
  {
   "cell_type": "code",
   "execution_count": 446,
   "id": "8fa88aa7",
   "metadata": {},
   "outputs": [
    {
     "data": {
      "text/plain": [
       "       message: Optimization terminated successfully.\n",
       "       success: True\n",
       "        status: 0\n",
       "           fun: 126.66528375723989\n",
       "             x: [ 2.192e-01 -2.441e-01]\n",
       "           nit: 38\n",
       "          nfev: 73\n",
       " final_simplex: (array([[ 2.192e-01, -2.441e-01],\n",
       "                       [ 2.190e-01, -2.449e-01],\n",
       "                       [ 2.192e-01, -2.434e-01]]), array([ 1.267e+02,  1.267e+02,  1.267e+02]))"
      ]
     },
     "execution_count": 446,
     "metadata": {},
     "output_type": "execute_result"
    }
   ],
   "source": [
    "rat_nelder_mead_res"
   ]
  },
  {
   "cell_type": "code",
   "execution_count": 407,
   "id": "42480947",
   "metadata": {},
   "outputs": [
    {
     "data": {
      "text/plain": [
       "<matplotlib.legend.Legend at 0x146acc82260>"
      ]
     },
     "execution_count": 407,
     "metadata": {},
     "output_type": "execute_result"
    },
    {
     "data": {
      "image/png": "[encoded data removed]",
      "text/plain": [
       "<Figure size 640x480 with 1 Axes>"
      ]
     },
     "metadata": {},
     "output_type": "display_data"
    }
   ],
   "source": [
    "plt.scatter(x_k, y_k)\n",
    "plt.title('Linear approximant')\n",
    "plt.plot(x_k, linear_ex[0][0] * x_k + linear_ex[0][1], 'r', label='Exhaustive search')\n",
    "plt.plot(x_k, lin_coord_des_res[0][0] * x_k + lin_coord_des_res[0][1], 'k', label='Coordinate descent')\n",
    "plt.plot(x_k, lin_nelder_mead_res.x[0] * x_k + lin_nelder_mead_res.x[1], 'm', label='Nelder-Mead method')\n",
    "plt.legend()"
   ]
  },
  {
   "cell_type": "code",
   "execution_count": 443,
   "id": "8afd22d1",
   "metadata": {
    "scrolled": false
   },
   "outputs": [
    {
     "data": {
      "text/plain": [
       "<matplotlib.legend.Legend at 0x146adfd7a60>"
      ]
     },
     "execution_count": 443,
     "metadata": {},
     "output_type": "execute_result"
    },
    {
     "data": {
      "image/png": "[encoded data removed]",
      "text/plain": [
       "<Figure size 640x480 with 1 Axes>"
      ]
     },
     "metadata": {},
     "output_type": "display_data"
    }
   ],
   "source": [
    "plt.scatter(x_k, y_k)\n",
    "plt.title('Rational approximant')\n",
    "plt.plot(x_k, rational_ex[0][0] / (1 + x_k * rational_ex[0][1]), 'r', label='Exhaustive search')\n",
    "plt.plot(x_k, rat_coord_des_res[0][0] / (1 + x_k * rat_coord_des_res[0][1]), 'c', label='Coordinate descent')\n",
    "plt.plot(x_k, rat_nelder_mead_res.x[0] / (1 + x_k * rat_nelder_mead_res.x[1]), 'm', label='Nelder-Mead method')\n",
    "plt.legend()"
   ]
  }
 ],
 "metadata": {
  "kernelspec": {
   "display_name": "Python 3 (ipykernel)",
   "language": "python",
   "name": "python3"
  },
  "language_info": {
   "codemirror_mode": {
    "name": "ipython",
    "version": 3
   },
   "file_extension": ".py",
   "mimetype": "text/x-python",
   "name": "python",
   "nbconvert_exporter": "python",
   "pygments_lexer": "ipython3",
   "version": "3.10.9"
  }
 },
 "nbformat": 4,
 "nbformat_minor": 5
}
